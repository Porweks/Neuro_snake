{
 "cells": [
  {
   "cell_type": "code",
   "execution_count": 77,
   "id": "30ad760d-ccb6-42b2-ae9f-cfb61245c126",
   "metadata": {},
   "outputs": [],
   "source": [
    "import torch\n",
    "from numpy import unravel_index as unravel\n",
    "import matplotlib.pyplot as plt\n",
    "import torch.nn as nn\n",
    "import torch.nn.functional as F\n",
    "\n",
    "action_dict = {'a': torch.tensor([0., -1.]), 'd': torch.tensor([0., 1.]), 'w': torch.tensor([-1., 0.]), 's': torch.tensor([1., 0.])}\n",
    "\n",
    "def do(snake: torch.Tensor, action):\n",
    "    reward = 0\n",
    "    positions = snake.flatten().topk(2)[1]\n",
    "    [pos_cur, pos_prev] = [torch.Tensor(unravel(x, snake.shape)) for x in positions]\n",
    "    #print('direction', (pos_cur - pos_prev)) # Направление движения\n",
    "    pos_next = (pos_cur + action) % torch.Tensor([snake.shape]).squeeze(0) \n",
    "    \n",
    "    pos_cur = pos_cur.int()\n",
    "    pos_next = pos_next.int()\n",
    "    \n",
    "    # Проверка на столкновение\n",
    "    if (snake[tuple(pos_next)] > 0).any():\n",
    "        reward = -100\n",
    "        return reward,(snake[tuple(pos_cur)] - 2).item()  # Возвращаем счёт (длина змейки минус 2)\n",
    "    \n",
    "    # Кушаем яблоко\n",
    "    if snake[tuple(pos_next)] == -1:\n",
    "        pos_food = (snake == 0).flatten().to(torch.float).multinomial(1)[0] # Генерируем позицию яблока\n",
    "        snake[unravel(pos_food, snake.shape)] = -1 # Добавляем яблоко в игру\n",
    "        reward= 10\n",
    "        \n",
    "    else: # Двигаемся в пустую клетку\n",
    "        snake[snake > 0] -= 1 # Уменьшаем значения\n",
    "\n",
    "    snake[tuple(pos_next)] = snake[tuple(pos_cur)] + 1 # перемещаем голову\n",
    "    print(snake)\n",
    "    return reward, (snake[tuple(pos_cur)] - 2).item()\n"
   ]
  },
  {
   "cell_type": "code",
   "execution_count": 71,
   "id": "6858b7ef-2b91-4ebf-8467-decccf96732d",
   "metadata": {},
   "outputs": [],
   "source": [
    "\n",
    "plt.rcParams['figure.figsize'] = 10, 10\n",
    "snake = torch.zeros((32, 32), dtype=torch.int)\n",
    "snake[1, :3] = torch.Tensor([1, 2, -1]) # [хвост, голова, яблоко]"
   ]
  },
  {
   "cell_type": "code",
   "execution_count": 72,
   "id": "a1bb55ee-66a2-42ee-8758-0018f9ffb796",
   "metadata": {},
   "outputs": [],
   "source": [
    "class Neuro_BigBoss(nn.Module):\n",
    "    def __init__(self):\n",
    "        super().__init__()\n",
    "        self.conv1=nn.Conv2d(3,32,kernel_size(3,3), padding = 1)\n",
    "        self.conv1=nn.Conv2d(32,64,kernel_size(3,3), padding = 1)\n",
    "        self.fl = nn.Flatten()\n",
    "        self.fc1=nn.Linear(64*32*32, 32)\n",
    "        self.fc2=nn.Linear(32,4)\n",
    "\n",
    "    def forward(self,x):\n",
    "        x = F.relu(self.conv1(x))\n",
    "        x= F.relu(self.conv2(x))\n",
    "        x = self.fl(x)\n",
    "        x = F.relu(self.fc1(x))\n",
    "        x = self.fc1(x)"
   ]
  },
  {
   "cell_type": "code",
   "execution_count": 75,
   "id": "f9e56e07-1c39-4668-9db9-70d2f6f671c0",
   "metadata": {},
   "outputs": [],
   "source": [
    "class Champion():\n",
    "    def __init__(self):\n",
    "        super().__init__()\n",
    "        self.n_games = 0\n",
    "        self.model = Neuro_BigBoss().cuda()\n",
    "        self.eps = 0\n",
    "\n",
    "    def get_state(self, snake):\n",
    "        print(snake)\n",
    "\n",
    "    def get_action(self, state):\n",
    "        # random moves: tradeoff exploration / exploitation\n",
    "        self.epsilon = 80 - self.n_games\n",
    "        final_move = [0,0,0]\n",
    "        if random.randint(0, 200) < self.epsilon:\n",
    "            move = random.randint(0, 2)\n",
    "            final_move[move] = 1\n",
    "        else:\n",
    "            state0 = torch.tensor(state, dtype=torch.float)\n",
    "            prediction = self.model(state0)\n",
    "            move = torch.argmax(prediction).item()\n",
    "            final_move[move] = 1\n",
    "\n",
    "        return final_move\n"
   ]
  },
  {
   "cell_type": "code",
   "execution_count": 78,
   "id": "58e1f43b-8094-442f-8d13-991040ed5b15",
   "metadata": {},
   "outputs": [
    {
     "name": "stdout",
     "output_type": "stream",
     "text": [
      "tensor([[0, 0, 0,  ..., 0, 0, 0],\n",
      "        [0, 1, 2,  ..., 0, 0, 0],\n",
      "        [0, 0, 0,  ..., 0, 0, 0],\n",
      "        ...,\n",
      "        [0, 0, 0,  ..., 0, 0, 0],\n",
      "        [0, 0, 0,  ..., 0, 0, 0],\n",
      "        [0, 0, 0,  ..., 0, 0, 0]], dtype=torch.int32)\n",
      "1\n"
     ]
    },
    {
     "data": {
      "image/png": "[encoded data removed]",
      "text/plain": [
       "<Figure size 1000x1000 with 1 Axes>"
      ]
     },
     "metadata": {},
     "output_type": "display_data"
    }
   ],
   "source": [
    "\n",
    "action = {'val': 1}\n",
    "\n",
    "n = 0\n",
    "score = None\n",
    "while n<1:\n",
    "    img.set_data(snake)\n",
    "    reward, score = do(snake, action_dict['d'])\n",
    "    n += 1\n",
    "print(score)\n",
    "fig, ax = plt.subplots(1, 1)\n",
    "img = ax.imshow(snake)"
   ]
  },
  {
   "cell_type": "code",
   "execution_count": null,
   "id": "25570220-d2a7-4789-b98d-36710058c4ab",
   "metadata": {},
   "outputs": [],
   "source": []
  },
  {
   "cell_type": "code",
   "execution_count": null,
   "id": "4e1c6232-e46f-4864-afa2-fd2d40fbf4ab",
   "metadata": {},
   "outputs": [],
   "source": []
  },
  {
   "cell_type": "code",
   "execution_count": null,
   "id": "0dd2fdf7-46c5-47c6-9843-765dfa71321b",
   "metadata": {},
   "outputs": [],
   "source": []
  },
  {
   "cell_type": "code",
   "execution_count": null,
   "id": "b51fbe91-3211-4400-abdf-d4bf5dfb2364",
   "metadata": {},
   "outputs": [],
   "source": []
  },
  {
   "cell_type": "code",
   "execution_count": null,
   "id": "1f187d2e-ccbf-451e-8df1-5cb1dcfa6d80",
   "metadata": {},
   "outputs": [],
   "source": []
  }
 ],
 "metadata": {
  "kernelspec": {
   "display_name": "Python 3 (ipykernel)",
   "language": "python",
   "name": "python3"
  },
  "language_info": {
   "codemirror_mode": {
    "name": "ipython",
    "version": 3
   },
   "file_extension": ".py",
   "mimetype": "text/x-python",
   "name": "python",
   "nbconvert_exporter": "python",
   "pygments_lexer": "ipython3",
   "version": "3.10.6"
  }
 },
 "nbformat": 4,
 "nbformat_minor": 5
}
