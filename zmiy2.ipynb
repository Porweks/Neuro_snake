{
 "cells": [
  {
   "cell_type": "code",
   "execution_count": 99,
   "id": "eccbce11",
   "metadata": {},
   "outputs": [],
   "source": [
    "import sys\n",
    "import torch\n",
    "from numpy import unravel_index as unravel\n",
    "import matplotlib.pyplot as plt\n",
    "import torch.nn as nn\n",
    "import torch.nn.functional as F\n",
    "import random\n",
    "import numpy as np\n",
    "import heapq\n",
    "import math"
   ]
  },
  {
   "cell_type": "code",
   "execution_count": 2,
   "id": "30ad760d-ccb6-42b2-ae9f-cfb61245c126",
   "metadata": {},
   "outputs": [],
   "source": [
    "action_dict = {'a': torch.tensor([0., -1.]), 'd': torch.tensor([0., 1.]), 'w': torch.tensor([-1., 0.]), 's': torch.tensor([1., 0.])}\n",
    "\n",
    "def do(snake: torch.Tensor, action):\n",
    "    reward = 0\n",
    "    positions = snake.flatten().topk(2)[1]\n",
    "    [pos_cur, pos_prev] = [torch.Tensor(unravel(x, snake.shape)) for x in positions]\n",
    "    #print('direction', (pos_cur - pos_prev)) # Направление движения\n",
    "    pos_next = (pos_cur + action) % torch.Tensor([snake.shape]).squeeze(0) \n",
    "    \n",
    "    pos_cur = pos_cur.int()\n",
    "    pos_next = pos_next.int()\n",
    "    \n",
    "    # Проверка на столкновение\n",
    "    if (snake[tuple(pos_next)] > 0).any():\n",
    "        reward = -100\n",
    "        return reward,(snake[tuple(pos_cur)] - 2).item()  # Возвращаем счёт (длина змейки минус 2)\n",
    "    \n",
    "    # Кушаем яблоко\n",
    "    if snake[tuple(pos_next)] == -1:\n",
    "        pos_food = (snake == 0).flatten().to(torch.float).multinomial(1)[0] # Генерируем позицию яблока\n",
    "        snake[unravel(pos_food, snake.shape)] = -1 # Добавляем яблоко в игру\n",
    "        reward= 10\n",
    "        \n",
    "    else: # Двигаемся в пустую клетку\n",
    "        snake[snake > 0] -= 1  # Устанавливаем все значения в теле змеи равными 1\n",
    "\n",
    "    snake[tuple(pos_next)] = snake[tuple(pos_cur)] + 1 # перемещаем голову\n",
    "    return reward, (snake[tuple(pos_cur)] - 2).item()\n"
   ]
  },
  {
   "cell_type": "code",
   "execution_count": 3,
   "id": "a1bb55ee-66a2-42ee-8758-0018f9ffb796",
   "metadata": {},
   "outputs": [],
   "source": [
    "class Neuro_BigBoss(nn.Module):\n",
    "    def __init__(self):\n",
    "        super().__init__()\n",
    "        self.conv1=nn.Conv2d(3, 32, kernel_size=(3,3), padding = 1)\n",
    "        self.conv1=nn.Conv2d(32, 64, kernel_size=(3,3), padding = 1)\n",
    "        self.fl = nn.Flatten()\n",
    "        self.fc1=nn.Linear(64*32*32, 32)\n",
    "        self.fc2=nn.Linear(32,4)\n",
    "\n",
    "    def forward(self,x):\n",
    "        x = F.relu(self.conv1(x))\n",
    "        x= F.relu(self.conv2(x))\n",
    "        x = self.fl(x)\n",
    "        x = F.relu(self.fc1(x))\n",
    "        x = self.fc1(x)"
   ]
  },
  {
   "cell_type": "code",
   "execution_count": 4,
   "id": "f9e56e07-1c39-4668-9db9-70d2f6f671c0",
   "metadata": {},
   "outputs": [],
   "source": [
    "class Champion():\n",
    "    def __init__(self):\n",
    "        super().__init__()\n",
    "        self.n_games = 0\n",
    "        self.model = Neuro_BigBoss().cuda()\n",
    "        self.eps = 0\n",
    "\n",
    "    def get_state(self, snake):\n",
    "        head = (snake.topk(1)[0].argmax(),snake.topk(1)[1][snake.topk(1)[0].argmax()])\n",
    "        up_point = head[0]-1\n",
    "\n",
    "    def get_action(self, state):\n",
    "        # random moves: tradeoff exploration / exploitation\n",
    "        self.epsilon = 80 - self.n_games\n",
    "        final_move = [0,0,0]\n",
    "        if random.randint(0, 200) < self.epsilon:\n",
    "            move = random.randint(0, 2)\n",
    "            final_move[move] = 1\n",
    "        else:\n",
    "            state0 = torch.tensor(state, dtype=torch.float)\n",
    "            prediction = self.model(state0)\n",
    "            move = torch.argmax(prediction).item()\n",
    "            final_move[move] = 1\n",
    "\n",
    "        return final_move\n"
   ]
  },
  {
   "cell_type": "code",
   "execution_count": 213,
   "id": "e966bfce",
   "metadata": {},
   "outputs": [],
   "source": [
    "\n",
    "snake = torch.zeros((32, 32), dtype=torch.int)\n",
    "snake[31, :3] = torch.Tensor([1, 2, -1]) # [хвост, голова, яблоко]"
   ]
  },
  {
   "cell_type": "code",
   "execution_count": 215,
   "id": "58e1f43b-8094-442f-8d13-991040ed5b15",
   "metadata": {},
   "outputs": [
    {
     "name": "stdout",
     "output_type": "stream",
     "text": [
      "tensor([[0., 0., 0.,  ..., 0., 0., 0.],\n",
      "        [0., 0., 0.,  ..., 0., 0., 0.],\n",
      "        [0., 0., 0.,  ..., 0., 0., 0.],\n",
      "        ...,\n",
      "        [0., 0., 0.,  ..., 0., 0., 0.],\n",
      "        [0., 0., 0.,  ..., 0., 0., 0.],\n",
      "        [1., 1., 2.,  ..., 0., 0., 0.]])\n",
      "0 0\n"
     ]
    },
    {
     "data": {
      "image/png": "[encoded data removed]",
      "text/plain": [
       "<Figure size 640x480 with 1 Axes>"
      ]
     },
     "metadata": {},
     "output_type": "display_data"
    }
   ],
   "source": [
    "fig, ax = plt.subplots(1, 1)\n",
    "a = torch.zeros(snake.shape)\n",
    "positions = snake.flatten().topk(2)[1]\n",
    "[pos_cur, pos_prev] = [torch.Tensor(unravel(x, snake.shape)) for x in positions]\n",
    "a[snake>0]=1\n",
    "a[snake==snake.max()]=2\n",
    "a[snake<0]=-1\n",
    "print(a)\n",
    "img = ax.imshow(a)\n",
    "action = {'val': 1}\n",
    "# print(a)\n",
    "n = 0\n",
    "score = None\n",
    "while n<1:\n",
    "    img.set_data(a)\n",
    "    reward, score = do(snake, action_dict['d'])\n",
    "    n += 1\n",
    "print(reward, score)"
   ]
  },
  {
   "cell_type": "code",
   "execution_count": 216,
   "id": "b242b409",
   "metadata": {},
   "outputs": [
    {
     "name": "stdout",
     "output_type": "stream",
     "text": [
      "[31, 3]\n",
      "[8, 30]\n"
     ]
    }
   ],
   "source": [
    "img = ax.imshow(snake)\n",
    "\n",
    "head = [snake.topk(1)[0].argmax().numpy(),snake.topk(1)[1][snake.topk(1)[0].argmax()].numpy()]\n",
    "apple = [(snake.argmin()/32).int().item(),\n",
    "        (snake.argmin()%32).item()]\n",
    "head[1]=head[1][0]\n",
    "head_cords = [head[0].item(),head[1]]\n",
    "print(head_cords)\n",
    "print(apple)"
   ]
  },
  {
   "cell_type": "code",
   "execution_count": 228,
   "id": "a4ad2e85",
   "metadata": {},
   "outputs": [
    {
     "name": "stdout",
     "output_type": "stream",
     "text": [
      "(0, 3)\n"
     ]
    }
   ],
   "source": [
    "class Node:\n",
    "    def __init__(self, x, y):\n",
    "        self.x = x  # Координата x узла на карте\n",
    "        self.y = y  # Координата y узла на карте\n",
    "        self.g = 0  # Расстояние от начального узла до текущего узла\n",
    "        self.h = 0  # Примерное расстояние от текущего узла до конечного узла\n",
    "        self.f = 0  # Сумма g и h\n",
    "        self.parent = None  # Родительский узел, используется для восстановления пути\n",
    "\n",
    "    # Переопределяем оператор сравнения для сравнения узлов\n",
    "    def __lt__(self, other):\n",
    "        return self.f < other.f\n",
    "\n",
    "    # Переопределяем оператор равенства для сравнения узлов\n",
    "    def __eq__(self, other):\n",
    "        return self.x == other.x and self.y == other.y\n",
    "    \n",
    "    def __hash__(self):\n",
    "        return hash((self.x, self.y))\n",
    "\n",
    "# Определяем функцию для нахождения пути с помощью алгоритма A*\n",
    "def astar(start, end, obstacles):\n",
    "    # Создаем начальный и конечный узлы\n",
    "    start_node = Node(start[0], start[1])\n",
    "    end_node = Node(end[0], end[1])\n",
    "\n",
    "    # Инициализируем очередь с приоритетами\n",
    "    open_list = []\n",
    "    heapq.heappush(open_list, start_node)\n",
    "\n",
    "    # Инициализируем множество посещенных узлов\n",
    "    closed_set = set()\n",
    "\n",
    "    # Пока очередь с приоритетами не пуста\n",
    "    while open_list:\n",
    "        # Извлекаем узел с наименьшей оценкой f\n",
    "        current_node = heapq.heappop(open_list)\n",
    "        # Если текущий узел является конечным\n",
    "        if current_node == end_node:\n",
    "            # Восстанавливаем путь от конечного узла до начального\n",
    "            path = []\n",
    "            while current_node.parent is not None:\n",
    "                path.append((current_node.x, current_node.y))\n",
    "                current_node = current_node.parent\n",
    "            return path[-1]\n",
    "\n",
    "        # Добавляем текущий узел в множество посещенных узлов\n",
    "        closed_set.add(current_node)\n",
    "\n",
    "        # Получаем соседние узлы\n",
    "        neighbors = []\n",
    "        for dx in range(-1, 2):\n",
    "            for dy in range(-1, 2):\n",
    "                # Игнорируем текущий узел\n",
    "                if not ((dx == -1 and dy == 0) or (dx == 1 and dy == 0) or (dx == 0 and dy == -1) or (dx == 0 and dy == 1)):\n",
    "                    continue\n",
    "                # Вычисляем координаты соседнего узла\n",
    "                x = current_node.x + dx\n",
    "                y = current_node.y + dy\n",
    "                # Игнорируем узлы за пределами карты\n",
    "                if x < 0 :\n",
    "                    x=len(obstacles)-1\n",
    "                if x>=len(obstacles):\n",
    "                    x=0\n",
    "                if y<0:\n",
    "                    y=len(obstacles)-1\n",
    "                if y>=len(obstacles):\n",
    "                    y=0\n",
    "                # Игнорируем препятствия\n",
    "                if obstacles[x][y] == 1:\n",
    "                    continue\n",
    "                # Создаем новый узел и добавляем его в список соседей\n",
    "                neighbor = Node(x, y)\n",
    "                neighbors.append(neighbor)\n",
    "\n",
    "        # Для каждого соседнего узла\n",
    "        for neighbor in neighbors:\n",
    "            # Если соседний узел уже был посещен, пропускаем его\n",
    "            if neighbor in closed_set:\n",
    "                continue\n",
    "\n",
    "            # Вычисляем расстояние от начального узла до соседнего узла\n",
    "            new_g = current_node.g + 1\n",
    "\n",
    "            # Если соседний узел уже находится в очереди с приоритетами\n",
    "            if nfo := next((n for n in open_list if n == neighbor), None):\n",
    "                # Если новое расстояние до соседнего узла меньше, чем старое, обновляем значения g, h и f\n",
    "                if new_g < nfo.g:\n",
    "                    nfo.g = new_g\n",
    "                    nfo.h = math.sqrt((end_node.x - nfo.x) ** 2 + (end_node.y - nfo.y) ** 2)\n",
    "                    nfo.f = nfo.g + nfo.h\n",
    "                    nfo.parent = current_node\n",
    "                    # Обновляем приоритет соседнего узла в очереди с приоритетами\n",
    "                    heapq.heapify(open_list)\n",
    "            else:\n",
    "                # Иначе добавляем соседний узел в очередь с приоритетами и вычисляем значения g, h и f\n",
    "                neighbor.g = new_g\n",
    "                neighbor.h = math.sqrt((end_node.x - neighbor.x) ** 2 + (end_node.y - neighbor.y) ** 2)\n",
    "                neighbor.f = neighbor.g + neighbor.h\n",
    "                neighbor.parent = current_node\n",
    "                heapq.heappush(open_list, neighbor)\n",
    "\n",
    "    # Если конечный узел недостижим, возвращаем None\n",
    "    return None\n",
    "\n",
    "# Пример использования\n",
    "\n",
    "path = astar( head_cords, apple, snake)\n",
    "print(path)\n"
   ]
  },
  {
   "cell_type": "code",
   "execution_count": 238,
   "id": "e733d47b",
   "metadata": {},
   "outputs": [
    {
     "data": {
      "text/plain": [
       "array([-1,  0], dtype=int64)"
      ]
     },
     "execution_count": 238,
     "metadata": {},
     "output_type": "execute_result"
    }
   ],
   "source": [
    "cords = np.array(path)\n",
    "cords-=np.array(head_cords)\n",
    "if cords[0]==-31:\n",
    "    cords[0]=1\n",
    "if cords[0]==31:\n",
    "    cords[0]=-1\n",
    "if cords[1]==-31:\n",
    "    cords[1]=1\n",
    "if cords[1]==31:\n",
    "    cords[1]=-1\n",
    "cords*=-1\n",
    "cords"
   ]
  }
 ],
 "metadata": {
  "kernelspec": {
   "display_name": "Python 3 (ipykernel)",
   "language": "python",
   "name": "python3"
  },
  "language_info": {
   "codemirror_mode": {
    "name": "ipython",
    "version": 3
   },
   "file_extension": ".py",
   "mimetype": "text/x-python",
   "name": "python",
   "nbconvert_exporter": "python",
   "pygments_lexer": "ipython3",
   "version": "3.10.11"
  }
 },
 "nbformat": 4,
 "nbformat_minor": 5
}
